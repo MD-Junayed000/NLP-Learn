{
 "cells": [
  {
   "cell_type": "markdown",
   "id": "605a22de-f6ae-4b5d-8669-d9cb7bc14dec",
   "metadata": {},
   "source": [
    "***Retrieve email id and phone***"
   ]
  },
  {
   "cell_type": "code",
   "execution_count": 5,
   "id": "7e136472-bc81-470c-a520-57aab7758166",
   "metadata": {},
   "outputs": [],
   "source": [
    "import re"
   ]
  },
  {
   "cell_type": "code",
   "execution_count": 7,
   "id": "e06895b6-bc04-43c9-b444-89fbfcc2f2e5",
   "metadata": {},
   "outputs": [],
   "source": [
    "\n",
    "chat1 = 'codebasics: you ask lot of questions 😠  1235678912, abc@xyz.com'\n",
    "chat2 = 'codebasics: here it is: (123)-567-8912, abX_82@xyz.com'\n",
    "chat3 = 'codebasics: yes, phone: 1235678912 email: abc@xyz.com'"
   ]
  },
  {
   "cell_type": "code",
   "execution_count": 9,
   "id": "a71d2709-9e84-4416-adc0-ce567feecdb4",
   "metadata": {},
   "outputs": [
    {
     "data": {
      "text/plain": [
       "['abc@xyz.com']"
      ]
     },
     "execution_count": 9,
     "metadata": {},
     "output_type": "execute_result"
    }
   ],
   "source": [
    "pattern='[a-z0-9A-Z_]+@[a-z]+\\.com'\n",
    "re.findall(pattern,chat1)"
   ]
  },
  {
   "cell_type": "markdown",
   "id": "c5bda22a-778a-4b3f-b1ff-6828ed9915a2",
   "metadata": {},
   "source": [
    "***Retrieve order number***"
   ]
  },
  {
   "cell_type": "code",
   "execution_count": 15,
   "id": "d647f302-7d48-4305-bc1c-f0db03026a9e",
   "metadata": {},
   "outputs": [],
   "source": [
    "chat1='codebasics: Hello, I am having an issue with my order # 412889912'\n",
    "chat2='codebasics: I have a problem with my order number 412889912'\n",
    "chat3='codebasics: My order 412889912 is having an issue, I was charged 300$ when online it says 280$'"
   ]
  },
  {
   "cell_type": "code",
   "execution_count": 19,
   "id": "50dd906f-97f1-45bc-875d-85d1490a3203",
   "metadata": {},
   "outputs": [
    {
     "data": {
      "text/plain": [
       "['412889912']"
      ]
     },
     "execution_count": 19,
     "metadata": {},
     "output_type": "execute_result"
    }
   ],
   "source": [
    "pattern = 'order[^\\d]+(\\d+)'\n",
    "matches = re.findall(pattern, chat1)\n",
    "matches"
   ]
  },
  {
   "cell_type": "markdown",
   "id": "3345f2ac-f4c9-4a82-8945-97f7c7d6de54",
   "metadata": {},
   "source": [
    "***(2) Regex for Information Extraction***"
   ]
  },
  {
   "cell_type": "code",
   "execution_count": 64,
   "id": "ca806cfd-ba2a-4912-9da1-04fec3a01e10",
   "metadata": {},
   "outputs": [],
   "source": [
    "text='''\n",
    "Born\tElon Reeve Musk\n",
    "June 28, 1971 (age 50)\n",
    "Pretoria, Transvaal, South Africa\n",
    "Citizenship\t\n",
    "South Africa (1971–present)\n",
    "Canada (1971–present)\n",
    "United States (2002–present)\n",
    "Education\tUniversity of Pennsylvania (BS, BA)\n",
    "Title\t\n",
    "Founder, CEO and Chief Engineer of SpaceX\n",
    "CEO and product architect of Tesla, Inc.\n",
    "Founder of The Boring Company and X.com (now part of PayPal)\n",
    "Co-founder of Neuralink, OpenAI, and Zip2\n",
    "Spouse(s)\t\n",
    "Justine Wilson\n",
    "​\n",
    "​(m. 2000; div. 2008)​\n",
    "Talulah Riley\n",
    "​\n",
    "​(m. 2010; div. 2012)​\n",
    "​\n",
    "​(m. 2013; div. 2016)\n",
    "'''"
   ]
  },
  {
   "cell_type": "code",
   "execution_count": 66,
   "id": "d49aaa71-0b9e-4e66-94b5-271522d2a69e",
   "metadata": {},
   "outputs": [
    {
     "data": {
      "text/plain": [
       "'Elon Reeve Musk'"
      ]
     },
     "execution_count": 66,
     "metadata": {},
     "output_type": "execute_result"
    }
   ],
   "source": [
    "pattern = 'Born(.+)\\n'\n",
    "matches = re.findall(pattern, text)\n",
    "matches[0].strip() ### removing white spaces"
   ]
  },
  {
   "cell_type": "code",
   "execution_count": 68,
   "id": "27d3d479-3741-4318-b1dc-eb926afa144e",
   "metadata": {},
   "outputs": [
    {
     "data": {
      "text/plain": [
       "['June 28, 1971 ']"
      ]
     },
     "execution_count": 68,
     "metadata": {},
     "output_type": "execute_result"
    }
   ],
   "source": [
    "pattern = 'Born.+\\n(.+)\\(age'### taking after the born next row\n",
    "matches = re.findall(pattern, text)\n",
    "matches"
   ]
  },
  {
   "cell_type": "code",
   "execution_count": 70,
   "id": "4417536b-5c6d-46ca-9d89-ac0670ba84e1",
   "metadata": {},
   "outputs": [
    {
     "data": {
      "text/plain": [
       "['Pretoria, Transvaal, South Africa']"
      ]
     },
     "execution_count": 70,
     "metadata": {},
     "output_type": "execute_result"
    }
   ],
   "source": [
    "pattern = '\\(age.+\\n(.+)'\n",
    "matches = re.findall(pattern, text)\n",
    "matches"
   ]
  },
  {
   "cell_type": "code",
   "execution_count": 86,
   "id": "fad387eb-ce5d-40b7-99ff-bdf3edeec406",
   "metadata": {},
   "outputs": [],
   "source": [
    "def get_pattern_match(pattern,text):\n",
    "    matches=re.findall(pattern,text)\n",
    "    return matches[0]"
   ]
  },
  {
   "cell_type": "code",
   "execution_count": 92,
   "id": "46862520-0148-4fb6-9efd-b384dad825a4",
   "metadata": {},
   "outputs": [],
   "source": [
    "def get_personal_information(text):\n",
    "    name=get_pattern_match('Born(.+)\\n',text)\n",
    "    birth_date=get_pattern_match('Born.+\\n(.+)\\(age',text)\n",
    "    home_place=get_pattern_match('\\(age.+\\n(.+)',text)\n",
    "    return {\n",
    "        'name':name.strip(),\n",
    "        'birth':birth_date,\n",
    "        'place':home_place\n",
    "    }\n",
    "\n",
    "\n"
   ]
  },
  {
   "cell_type": "code",
   "execution_count": 94,
   "id": "1d7e790e-ffe9-4395-89fa-f6ac6ee6ba9b",
   "metadata": {},
   "outputs": [
    {
     "data": {
      "text/plain": [
       "{'name': 'Elon Reeve Musk',\n",
       " 'birth': 'June 28, 1971 ',\n",
       " 'place': 'Pretoria, Transvaal, South Africa'}"
      ]
     },
     "execution_count": 94,
     "metadata": {},
     "output_type": "execute_result"
    }
   ],
   "source": [
    "get_personal_information(text)"
   ]
  }
 ],
 "metadata": {
  "kernelspec": {
   "display_name": "Python 3 (ipykernel)",
   "language": "python",
   "name": "python3"
  },
  "language_info": {
   "codemirror_mode": {
    "name": "ipython",
    "version": 3
   },
   "file_extension": ".py",
   "mimetype": "text/x-python",
   "name": "python",
   "nbconvert_exporter": "python",
   "pygments_lexer": "ipython3",
   "version": "3.12.7"
  }
 },
 "nbformat": 4,
 "nbformat_minor": 5
}
